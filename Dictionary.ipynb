{
 "cells": [
  {
   "cell_type": "markdown",
   "id": "763cff38-92c1-4b71-8103-d85b7a013c3b",
   "metadata": {},
   "source": [
    "# Dictionary"
   ]
  },
  {
   "cell_type": "code",
   "execution_count": 21,
   "id": "f73fc8de-2454-4721-82c6-e7df6e86260f",
   "metadata": {},
   "outputs": [
    {
     "name": "stdout",
     "output_type": "stream",
     "text": [
      "{'roll_no': (1, 2, 3, 4), 'Name': ['a', 'b', 'c', 'd'], 'Marks': [70, 80, 30, 90]}\n"
     ]
    }
   ],
   "source": [
    "std_info = {'roll_no':(1,2,3,4),'Name':['a','b','c','d'],'Marks':[70,80,30,90]}\n",
    "print(std_info)"
   ]
  },
  {
   "cell_type": "code",
   "execution_count": 3,
   "id": "9c5d0146-3020-41d6-b479-6212400adb9b",
   "metadata": {},
   "outputs": [
    {
     "data": {
      "text/plain": [
       "4"
      ]
     },
     "execution_count": 3,
     "metadata": {},
     "output_type": "execute_result"
    }
   ],
   "source": [
    "std_info['roll_no'][-1]"
   ]
  },
  {
   "cell_type": "code",
   "execution_count": 4,
   "id": "3080d07a-3f5e-4328-b76b-c5581a3d1f55",
   "metadata": {},
   "outputs": [
    {
     "data": {
      "text/plain": [
       "'b'"
      ]
     },
     "execution_count": 4,
     "metadata": {},
     "output_type": "execute_result"
    }
   ],
   "source": [
    "std_info['Name'][1]"
   ]
  },
  {
   "cell_type": "code",
   "execution_count": 5,
   "id": "bb73357c-28a2-4503-beb2-a7540dd19d97",
   "metadata": {},
   "outputs": [
    {
     "data": {
      "text/plain": [
       "[80, 30, 90]"
      ]
     },
     "execution_count": 5,
     "metadata": {},
     "output_type": "execute_result"
    }
   ],
   "source": [
    "std_info['Marks'][1:]"
   ]
  },
  {
   "cell_type": "code",
   "execution_count": 23,
   "id": "ecb82c00-f0a5-47a0-89a0-c6a450f8c744",
   "metadata": {},
   "outputs": [],
   "source": [
    "# add new colm\n",
    "std_info['Subject']=('math','sci','hist')"
   ]
  },
  {
   "cell_type": "code",
   "execution_count": 7,
   "id": "08201563-aad5-40ba-81c3-96c729a20cc3",
   "metadata": {},
   "outputs": [
    {
     "name": "stdout",
     "output_type": "stream",
     "text": [
      "{'roll_no': (1, 2, 3, 4), 'Name': ['a', 'b', 'c', 'd'], 'Marks': [70, 80, 30, 90], 'Subject': ('math', 'sci', 'hist')}\n"
     ]
    }
   ],
   "source": [
    "print(std_info)"
   ]
  },
  {
   "cell_type": "code",
   "execution_count": null,
   "id": "18f309e2-a548-42f5-8b66-c6c7a6c578e6",
   "metadata": {},
   "outputs": [],
   "source": [
    "# adding values to empty dictionary"
   ]
  },
  {
   "cell_type": "code",
   "execution_count": 8,
   "id": "01234ba5-9e50-4a4a-9fbb-d70110869d78",
   "metadata": {},
   "outputs": [],
   "source": [
    "dict_1={}"
   ]
  },
  {
   "cell_type": "code",
   "execution_count": 9,
   "id": "2b7e225b-916b-4f62-b5b8-f1a9c99319b0",
   "metadata": {},
   "outputs": [
    {
     "data": {
      "text/plain": [
       "{}"
      ]
     },
     "execution_count": 9,
     "metadata": {},
     "output_type": "execute_result"
    }
   ],
   "source": [
    "dict_1"
   ]
  },
  {
   "cell_type": "code",
   "execution_count": 13,
   "id": "92c4972b-70c8-49e7-8e8b-71d646a520a9",
   "metadata": {},
   "outputs": [],
   "source": [
    "dict_1['A']= 'This is new key'"
   ]
  },
  {
   "cell_type": "code",
   "execution_count": 11,
   "id": "0252ebee-fb98-4802-821b-95dcb9941eb1",
   "metadata": {},
   "outputs": [
    {
     "data": {
      "text/plain": [
       "{'A': 'This is new key'}"
      ]
     },
     "execution_count": 11,
     "metadata": {},
     "output_type": "execute_result"
    }
   ],
   "source": [
    "dict_1"
   ]
  },
  {
   "cell_type": "code",
   "execution_count": 14,
   "id": "50a3b7f1-cb7f-4ab0-adb8-c0f9e297998f",
   "metadata": {},
   "outputs": [
    {
     "data": {
      "text/plain": [
       "{'A': 'This is new key', 'B': ('adding', 'another', 'key')}"
      ]
     },
     "execution_count": 14,
     "metadata": {},
     "output_type": "execute_result"
    }
   ],
   "source": [
    "dict_1['B']=('adding','another','key')\n",
    "dict_1"
   ]
  },
  {
   "cell_type": "code",
   "execution_count": 15,
   "id": "c2b1464b-27c8-4378-a9fd-e6678f8fc419",
   "metadata": {},
   "outputs": [
    {
     "data": {
      "text/plain": [
       "['__class__',\n",
       " '__class_getitem__',\n",
       " '__contains__',\n",
       " '__delattr__',\n",
       " '__delitem__',\n",
       " '__dir__',\n",
       " '__doc__',\n",
       " '__eq__',\n",
       " '__format__',\n",
       " '__ge__',\n",
       " '__getattribute__',\n",
       " '__getitem__',\n",
       " '__gt__',\n",
       " '__hash__',\n",
       " '__init__',\n",
       " '__init_subclass__',\n",
       " '__ior__',\n",
       " '__iter__',\n",
       " '__le__',\n",
       " '__len__',\n",
       " '__lt__',\n",
       " '__ne__',\n",
       " '__new__',\n",
       " '__or__',\n",
       " '__reduce__',\n",
       " '__reduce_ex__',\n",
       " '__repr__',\n",
       " '__reversed__',\n",
       " '__ror__',\n",
       " '__setattr__',\n",
       " '__setitem__',\n",
       " '__sizeof__',\n",
       " '__str__',\n",
       " '__subclasshook__',\n",
       " 'clear',\n",
       " 'copy',\n",
       " 'fromkeys',\n",
       " 'get',\n",
       " 'items',\n",
       " 'keys',\n",
       " 'pop',\n",
       " 'popitem',\n",
       " 'setdefault',\n",
       " 'update',\n",
       " 'values']"
      ]
     },
     "execution_count": 15,
     "metadata": {},
     "output_type": "execute_result"
    }
   ],
   "source": [
    "dir(dict_1)"
   ]
  },
  {
   "cell_type": "code",
   "execution_count": 16,
   "id": "c2454eeb-1d36-4c0f-8bd6-4f40f0df14f4",
   "metadata": {},
   "outputs": [
    {
     "data": {
      "text/plain": [
       "dict_keys(['A', 'B'])"
      ]
     },
     "execution_count": 16,
     "metadata": {},
     "output_type": "execute_result"
    }
   ],
   "source": [
    "dict_1.keys()"
   ]
  },
  {
   "cell_type": "code",
   "execution_count": 17,
   "id": "edd57dc8-b409-45b7-87f1-302de8f61d65",
   "metadata": {},
   "outputs": [
    {
     "data": {
      "text/plain": [
       "dict_keys(['roll_no', 'Name', 'Marks', 'Subject'])"
      ]
     },
     "execution_count": 17,
     "metadata": {},
     "output_type": "execute_result"
    }
   ],
   "source": [
    "std_info.keys()"
   ]
  },
  {
   "cell_type": "code",
   "execution_count": 18,
   "id": "8eaef220-1ef9-4d5f-b654-b49090d6a1f7",
   "metadata": {},
   "outputs": [
    {
     "data": {
      "text/plain": [
       "dict_values([(1, 2, 3, 4), ['a', 'b', 'c', 'd'], [70, 80, 30, 90], ('math', 'sci', 'hist')])"
      ]
     },
     "execution_count": 18,
     "metadata": {},
     "output_type": "execute_result"
    }
   ],
   "source": [
    "std_info.values()"
   ]
  },
  {
   "cell_type": "code",
   "execution_count": 19,
   "id": "413fad8e-fb3f-4da9-86a5-ba060a8e6795",
   "metadata": {},
   "outputs": [
    {
     "data": {
      "text/plain": [
       "dict_items([('roll_no', (1, 2, 3, 4)), ('Name', ['a', 'b', 'c', 'd']), ('Marks', [70, 80, 30, 90]), ('Subject', ('math', 'sci', 'hist'))])"
      ]
     },
     "execution_count": 19,
     "metadata": {},
     "output_type": "execute_result"
    }
   ],
   "source": [
    "std_info.items()"
   ]
  },
  {
   "cell_type": "code",
   "execution_count": 21,
   "id": "cf24fba5-201d-42e3-b528-6ac58ab6e20c",
   "metadata": {},
   "outputs": [
    {
     "data": {
      "text/plain": [
       "{}"
      ]
     },
     "execution_count": 21,
     "metadata": {},
     "output_type": "execute_result"
    }
   ],
   "source": [
    "dict_1.clear()\n",
    "dict_1"
   ]
  },
  {
   "cell_type": "code",
   "execution_count": 23,
   "id": "0c55da78-8f25-4e7a-8c94-8369516caa7a",
   "metadata": {},
   "outputs": [],
   "source": [
    "# how to declear dictionary insind dictonary"
   ]
  },
  {
   "cell_type": "code",
   "execution_count": 24,
   "id": "718b25be-dc10-4869-9991-08ec9d1604d0",
   "metadata": {},
   "outputs": [
    {
     "data": {
      "text/plain": [
       "{'k1': {'k2': [1, 2, 3]}, 'k3': ['a', 'b', 'c'], 'k4': 'This is latest'}"
      ]
     },
     "execution_count": 24,
     "metadata": {},
     "output_type": "execute_result"
    }
   ],
   "source": [
    "d_1 ={'k1':{'k2':[1,2,3]},'k3':['a','b','c'],'k4':'This is latest'}\n",
    "d_1"
   ]
  },
  {
   "cell_type": "code",
   "execution_count": 25,
   "id": "8794b9d3-5ada-4f35-ac33-18d9d61976e7",
   "metadata": {},
   "outputs": [
    {
     "data": {
      "text/plain": [
       "3"
      ]
     },
     "execution_count": 25,
     "metadata": {},
     "output_type": "execute_result"
    }
   ],
   "source": [
    "d_1['k1']['k2'][-1]"
   ]
  },
  {
   "cell_type": "code",
   "execution_count": 26,
   "id": "4b61868a-49b2-452f-bf06-9d6d21b77416",
   "metadata": {},
   "outputs": [
    {
     "data": {
      "text/plain": [
       "'latest'"
      ]
     },
     "execution_count": 26,
     "metadata": {},
     "output_type": "execute_result"
    }
   ],
   "source": [
    "d_1['k4'][8:]"
   ]
  },
  {
   "cell_type": "code",
   "execution_count": null,
   "id": "2c6905f0-3922-41ab-b5ad-89cea5dde951",
   "metadata": {},
   "outputs": [],
   "source": [
    "# mutable and immutable data type"
   ]
  },
  {
   "cell_type": "code",
   "execution_count": 1,
   "id": "cd60ced8-a202-4508-aa69-2cb684ca257c",
   "metadata": {},
   "outputs": [],
   "source": [
    "l_1 = [1,2,3,4]"
   ]
  },
  {
   "cell_type": "code",
   "execution_count": 2,
   "id": "648786d7-af01-4deb-9bde-72392249a024",
   "metadata": {},
   "outputs": [],
   "source": [
    "#add new value\n",
    "l_1.append(5)"
   ]
  },
  {
   "cell_type": "code",
   "execution_count": 3,
   "id": "fcdbb6ce-f455-4791-845f-e1bccf46e9fe",
   "metadata": {},
   "outputs": [],
   "source": [
    "#replacde one of the value \n",
    "l_1[2]=7"
   ]
  },
  {
   "cell_type": "code",
   "execution_count": 4,
   "id": "3a279ecc-95fa-47ba-b7ca-dd422ccf340d",
   "metadata": {},
   "outputs": [
    {
     "data": {
      "text/plain": [
       "[1, 2, 7, 4, 5]"
      ]
     },
     "execution_count": 4,
     "metadata": {},
     "output_type": "execute_result"
    }
   ],
   "source": [
    "l_1"
   ]
  },
  {
   "cell_type": "code",
   "execution_count": 5,
   "id": "9a9c6ce3-8216-4b53-8cd8-550b5ae3eff6",
   "metadata": {},
   "outputs": [
    {
     "data": {
      "text/plain": [
       "5"
      ]
     },
     "execution_count": 5,
     "metadata": {},
     "output_type": "execute_result"
    }
   ],
   "source": [
    "#delete value\n",
    "l_1.pop()"
   ]
  },
  {
   "cell_type": "code",
   "execution_count": 6,
   "id": "46e32803-7146-4c7f-bfab-5fb8eaedf11b",
   "metadata": {},
   "outputs": [
    {
     "data": {
      "text/plain": [
       "(1, 2, 3, 4)"
      ]
     },
     "execution_count": 6,
     "metadata": {},
     "output_type": "execute_result"
    }
   ],
   "source": [
    "t_1=(1,2,3,4)\n",
    "t_1"
   ]
  },
  {
   "cell_type": "code",
   "execution_count": 7,
   "id": "ee3235ab-4f17-49de-b1dd-8ff19e3344a3",
   "metadata": {},
   "outputs": [
    {
     "ename": "AttributeError",
     "evalue": "'tuple' object has no attribute 'append'",
     "output_type": "error",
     "traceback": [
      "\u001b[1;31m---------------------------------------------------------------------------\u001b[0m",
      "\u001b[1;31mAttributeError\u001b[0m                            Traceback (most recent call last)",
      "\u001b[1;32m~\\AppData\\Local\\Temp\\ipykernel_3360\\4114468708.py\u001b[0m in \u001b[0;36m<module>\u001b[1;34m\u001b[0m\n\u001b[1;32m----> 1\u001b[1;33m \u001b[0mt_1\u001b[0m\u001b[1;33m.\u001b[0m\u001b[0mappend\u001b[0m\u001b[1;33m(\u001b[0m\u001b[1;36m5\u001b[0m\u001b[1;33m)\u001b[0m\u001b[1;33m\u001b[0m\u001b[1;33m\u001b[0m\u001b[0m\n\u001b[0m",
      "\u001b[1;31mAttributeError\u001b[0m: 'tuple' object has no attribute 'append'"
     ]
    }
   ],
   "source": [
    "t_1.append(5)"
   ]
  },
  {
   "cell_type": "code",
   "execution_count": 8,
   "id": "bd3dddc3-3eec-4c5f-916b-3574c5937907",
   "metadata": {},
   "outputs": [
    {
     "ename": "TypeError",
     "evalue": "'tuple' object does not support item assignment",
     "output_type": "error",
     "traceback": [
      "\u001b[1;31m---------------------------------------------------------------------------\u001b[0m",
      "\u001b[1;31mTypeError\u001b[0m                                 Traceback (most recent call last)",
      "\u001b[1;32m~\\AppData\\Local\\Temp\\ipykernel_3360\\4133331192.py\u001b[0m in \u001b[0;36m<module>\u001b[1;34m\u001b[0m\n\u001b[1;32m----> 1\u001b[1;33m \u001b[0mt_1\u001b[0m\u001b[1;33m[\u001b[0m\u001b[1;36m2\u001b[0m\u001b[1;33m]\u001b[0m\u001b[1;33m=\u001b[0m\u001b[1;36m7\u001b[0m\u001b[1;33m\u001b[0m\u001b[1;33m\u001b[0m\u001b[0m\n\u001b[0m",
      "\u001b[1;31mTypeError\u001b[0m: 'tuple' object does not support item assignment"
     ]
    }
   ],
   "source": [
    "t_1[2]=7"
   ]
  },
  {
   "cell_type": "code",
   "execution_count": 9,
   "id": "001025b3-32fc-48ca-abd8-7754c75680b1",
   "metadata": {},
   "outputs": [
    {
     "ename": "AttributeError",
     "evalue": "'tuple' object has no attribute 'pop'",
     "output_type": "error",
     "traceback": [
      "\u001b[1;31m---------------------------------------------------------------------------\u001b[0m",
      "\u001b[1;31mAttributeError\u001b[0m                            Traceback (most recent call last)",
      "\u001b[1;32m~\\AppData\\Local\\Temp\\ipykernel_3360\\3714553113.py\u001b[0m in \u001b[0;36m<module>\u001b[1;34m\u001b[0m\n\u001b[1;32m----> 1\u001b[1;33m \u001b[0mt_1\u001b[0m\u001b[1;33m.\u001b[0m\u001b[0mpop\u001b[0m\u001b[1;33m(\u001b[0m\u001b[1;33m)\u001b[0m\u001b[1;33m\u001b[0m\u001b[1;33m\u001b[0m\u001b[0m\n\u001b[0m",
      "\u001b[1;31mAttributeError\u001b[0m: 'tuple' object has no attribute 'pop'"
     ]
    }
   ],
   "source": [
    "t_1.pop()"
   ]
  },
  {
   "cell_type": "code",
   "execution_count": 10,
   "id": "bfa62511-7750-4f01-9a1e-fbe23a59316e",
   "metadata": {},
   "outputs": [],
   "source": [
    "st_1 = 'hello python'"
   ]
  },
  {
   "cell_type": "code",
   "execution_count": 11,
   "id": "7f83c24b-849f-4253-8805-d54f6b175f8d",
   "metadata": {},
   "outputs": [
    {
     "ename": "AttributeError",
     "evalue": "'str' object has no attribute 'append'",
     "output_type": "error",
     "traceback": [
      "\u001b[1;31m---------------------------------------------------------------------------\u001b[0m",
      "\u001b[1;31mAttributeError\u001b[0m                            Traceback (most recent call last)",
      "\u001b[1;32m~\\AppData\\Local\\Temp\\ipykernel_3360\\189178864.py\u001b[0m in \u001b[0;36m<module>\u001b[1;34m\u001b[0m\n\u001b[1;32m----> 1\u001b[1;33m \u001b[0mst_1\u001b[0m\u001b[1;33m.\u001b[0m\u001b[0mappend\u001b[0m\u001b[1;33m(\u001b[0m\u001b[1;34m'new'\u001b[0m\u001b[1;33m)\u001b[0m\u001b[1;33m\u001b[0m\u001b[1;33m\u001b[0m\u001b[0m\n\u001b[0m",
      "\u001b[1;31mAttributeError\u001b[0m: 'str' object has no attribute 'append'"
     ]
    }
   ],
   "source": [
    "st_1.append('new')"
   ]
  },
  {
   "cell_type": "code",
   "execution_count": 12,
   "id": "064234de-22d3-4b34-bc8d-4ea7589f6dea",
   "metadata": {},
   "outputs": [
    {
     "ename": "AttributeError",
     "evalue": "'str' object has no attribute 'pop'",
     "output_type": "error",
     "traceback": [
      "\u001b[1;31m---------------------------------------------------------------------------\u001b[0m",
      "\u001b[1;31mAttributeError\u001b[0m                            Traceback (most recent call last)",
      "\u001b[1;32m~\\AppData\\Local\\Temp\\ipykernel_3360\\4263555693.py\u001b[0m in \u001b[0;36m<module>\u001b[1;34m\u001b[0m\n\u001b[1;32m----> 1\u001b[1;33m \u001b[0mst_1\u001b[0m\u001b[1;33m.\u001b[0m\u001b[0mpop\u001b[0m\u001b[1;33m(\u001b[0m\u001b[1;33m)\u001b[0m\u001b[1;33m\u001b[0m\u001b[1;33m\u001b[0m\u001b[0m\n\u001b[0m",
      "\u001b[1;31mAttributeError\u001b[0m: 'str' object has no attribute 'pop'"
     ]
    }
   ],
   "source": [
    "st_1.pop()"
   ]
  },
  {
   "cell_type": "code",
   "execution_count": 14,
   "id": "ee7331af-6732-4fc7-bcd7-328c65b1657c",
   "metadata": {},
   "outputs": [
    {
     "ename": "TypeError",
     "evalue": "'str' object does not support item assignment",
     "output_type": "error",
     "traceback": [
      "\u001b[1;31m---------------------------------------------------------------------------\u001b[0m",
      "\u001b[1;31mTypeError\u001b[0m                                 Traceback (most recent call last)",
      "\u001b[1;32m~\\AppData\\Local\\Temp\\ipykernel_3360\\3032154241.py\u001b[0m in \u001b[0;36m<module>\u001b[1;34m\u001b[0m\n\u001b[1;32m----> 1\u001b[1;33m \u001b[0mst_1\u001b[0m\u001b[1;33m[\u001b[0m\u001b[1;36m2\u001b[0m\u001b[1;33m]\u001b[0m\u001b[1;33m=\u001b[0m\u001b[1;34m'L'\u001b[0m\u001b[1;33m\u001b[0m\u001b[1;33m\u001b[0m\u001b[0m\n\u001b[0m",
      "\u001b[1;31mTypeError\u001b[0m: 'str' object does not support item assignment"
     ]
    }
   ],
   "source": [
    "st_1[2]='L'"
   ]
  },
  {
   "cell_type": "code",
   "execution_count": 15,
   "id": "bfa47ca6-e957-43f3-a542-9cf5d55b5931",
   "metadata": {},
   "outputs": [],
   "source": [
    "s_1 = {1,2,3,4}\n",
    "s_1.add(6)"
   ]
  },
  {
   "cell_type": "code",
   "execution_count": 16,
   "id": "c8a73b60-853d-49db-b5c2-d992098bb46c",
   "metadata": {},
   "outputs": [
    {
     "data": {
      "text/plain": [
       "{1, 2, 3, 4, 6}"
      ]
     },
     "execution_count": 16,
     "metadata": {},
     "output_type": "execute_result"
    }
   ],
   "source": [
    "s_1"
   ]
  },
  {
   "cell_type": "code",
   "execution_count": 17,
   "id": "d8996c8b-b1a9-4eed-befd-ba5813a6db54",
   "metadata": {},
   "outputs": [
    {
     "data": {
      "text/plain": [
       "1"
      ]
     },
     "execution_count": 17,
     "metadata": {},
     "output_type": "execute_result"
    }
   ],
   "source": [
    "s_1.pop()"
   ]
  },
  {
   "cell_type": "code",
   "execution_count": 18,
   "id": "c9d09931-30a0-4546-9fae-5bd706ec91d5",
   "metadata": {},
   "outputs": [
    {
     "data": {
      "text/plain": [
       "{2, 3, 4, 6}"
      ]
     },
     "execution_count": 18,
     "metadata": {},
     "output_type": "execute_result"
    }
   ],
   "source": [
    "s_1"
   ]
  },
  {
   "cell_type": "code",
   "execution_count": 19,
   "id": "27397cdf-e304-4932-8fbb-fec47353e2b2",
   "metadata": {},
   "outputs": [
    {
     "ename": "TypeError",
     "evalue": "'set' object does not support item assignment",
     "output_type": "error",
     "traceback": [
      "\u001b[1;31m---------------------------------------------------------------------------\u001b[0m",
      "\u001b[1;31mTypeError\u001b[0m                                 Traceback (most recent call last)",
      "\u001b[1;32m~\\AppData\\Local\\Temp\\ipykernel_3360\\2938461667.py\u001b[0m in \u001b[0;36m<module>\u001b[1;34m\u001b[0m\n\u001b[1;32m----> 1\u001b[1;33m \u001b[0ms_1\u001b[0m\u001b[1;33m[\u001b[0m\u001b[1;36m2\u001b[0m\u001b[1;33m]\u001b[0m\u001b[1;33m=\u001b[0m\u001b[1;36m10\u001b[0m\u001b[1;33m\u001b[0m\u001b[1;33m\u001b[0m\u001b[0m\n\u001b[0m",
      "\u001b[1;31mTypeError\u001b[0m: 'set' object does not support item assignment"
     ]
    }
   ],
   "source": [
    "s_1[2]=10"
   ]
  },
  {
   "cell_type": "code",
   "execution_count": 26,
   "id": "51c0239a-87b4-44e0-826b-c0e2151a1007",
   "metadata": {},
   "outputs": [
    {
     "name": "stdout",
     "output_type": "stream",
     "text": [
      "{'roll_no': (1, 2, 3, 4), 'Name': ['A', 'b', 'c', 'd'], 'Marks': [70, 80, 30, 90], 'Subject': ('math', 'sci', 'hist')}\n"
     ]
    }
   ],
   "source": [
    "print(std_info)"
   ]
  },
  {
   "cell_type": "code",
   "execution_count": 25,
   "id": "49869d43-0b5a-41d4-98c6-89a000eaa4f1",
   "metadata": {},
   "outputs": [],
   "source": [
    "std_info['Name'][0]='A'"
   ]
  },
  {
   "cell_type": "code",
   "execution_count": 27,
   "id": "c28d8f22-98c1-4df0-9358-b37132965444",
   "metadata": {},
   "outputs": [
    {
     "ename": "TypeError",
     "evalue": "'tuple' object does not support item assignment",
     "output_type": "error",
     "traceback": [
      "\u001b[1;31m---------------------------------------------------------------------------\u001b[0m",
      "\u001b[1;31mTypeError\u001b[0m                                 Traceback (most recent call last)",
      "\u001b[1;32m~\\AppData\\Local\\Temp\\ipykernel_3360\\3365891039.py\u001b[0m in \u001b[0;36m<module>\u001b[1;34m\u001b[0m\n\u001b[1;32m----> 1\u001b[1;33m \u001b[0mstd_info\u001b[0m\u001b[1;33m[\u001b[0m\u001b[1;34m'roll_no'\u001b[0m\u001b[1;33m]\u001b[0m\u001b[1;33m[\u001b[0m\u001b[1;36m0\u001b[0m\u001b[1;33m]\u001b[0m\u001b[1;33m=\u001b[0m\u001b[1;36m10\u001b[0m\u001b[1;33m\u001b[0m\u001b[1;33m\u001b[0m\u001b[0m\n\u001b[0m",
      "\u001b[1;31mTypeError\u001b[0m: 'tuple' object does not support item assignment"
     ]
    }
   ],
   "source": [
    "std_info['roll_no'][0]=10"
   ]
  },
  {
   "cell_type": "code",
   "execution_count": 29,
   "id": "eb8d814f-5619-4108-bd31-cab0aa400e30",
   "metadata": {},
   "outputs": [],
   "source": [
    "del std_info['Name'][0]"
   ]
  },
  {
   "cell_type": "code",
   "execution_count": 30,
   "id": "f59992c9-a5e5-430f-9e39-d05a3d64c763",
   "metadata": {},
   "outputs": [
    {
     "name": "stdout",
     "output_type": "stream",
     "text": [
      "{'roll_no': (1, 2, 3, 4), 'Name': ['b', 'c', 'd'], 'Marks': [70, 80, 30, 90], 'Subject': ('math', 'sci', 'hist')}\n"
     ]
    }
   ],
   "source": [
    "print(std_info)"
   ]
  },
  {
   "cell_type": "code",
   "execution_count": null,
   "id": "207d7a82-70c0-49c6-9a71-dc7669b608e5",
   "metadata": {},
   "outputs": [],
   "source": []
  },
  {
   "cell_type": "code",
   "execution_count": 31,
   "id": "b8aba600-e23b-48b3-9f1b-3ccff96eae32",
   "metadata": {},
   "outputs": [],
   "source": [
    "# deep copy and Shallow copy"
   ]
  },
  {
   "cell_type": "code",
   "execution_count": 32,
   "id": "1c3f8d5d-e9c1-4cf1-ac57-8c9210b7831d",
   "metadata": {},
   "outputs": [],
   "source": [
    "#shallow copy changes original if made changes in copy \n",
    "l1 = [1,2,3]\n",
    "l2 = l1"
   ]
  },
  {
   "cell_type": "code",
   "execution_count": 33,
   "id": "fab94517-9549-4f5e-8aa2-29304f955da6",
   "metadata": {},
   "outputs": [
    {
     "data": {
      "text/plain": [
       "[1, 2, 3]"
      ]
     },
     "execution_count": 33,
     "metadata": {},
     "output_type": "execute_result"
    }
   ],
   "source": [
    "l2"
   ]
  },
  {
   "cell_type": "code",
   "execution_count": 34,
   "id": "4bc51175-bcc4-47de-bac3-bd9f2b52ea25",
   "metadata": {},
   "outputs": [],
   "source": [
    "l2[-1]=30"
   ]
  },
  {
   "cell_type": "code",
   "execution_count": 35,
   "id": "34b1c223-5898-4d74-936f-630ac8ab268a",
   "metadata": {},
   "outputs": [
    {
     "data": {
      "text/plain": [
       "[1, 2, 30]"
      ]
     },
     "execution_count": 35,
     "metadata": {},
     "output_type": "execute_result"
    }
   ],
   "source": [
    "l2"
   ]
  },
  {
   "cell_type": "code",
   "execution_count": 36,
   "id": "fb856a5d-86c0-4c25-bc16-71a48c77af17",
   "metadata": {},
   "outputs": [
    {
     "data": {
      "text/plain": [
       "[1, 2, 30]"
      ]
     },
     "execution_count": 36,
     "metadata": {},
     "output_type": "execute_result"
    }
   ],
   "source": [
    "l1"
   ]
  },
  {
   "cell_type": "code",
   "execution_count": null,
   "id": "3b85b492-4f28-4de2-84b1-e8e6bfeaeb07",
   "metadata": {},
   "outputs": [],
   "source": []
  },
  {
   "cell_type": "code",
   "execution_count": 37,
   "id": "642a2d2a-5783-4631-ae05-3d30ac80c08d",
   "metadata": {},
   "outputs": [],
   "source": [
    "#deep copy does not change original if made changes in copy\n",
    "l3 = l1.copy()"
   ]
  },
  {
   "cell_type": "code",
   "execution_count": 38,
   "id": "230daeda-f232-4483-8b97-5bbc45f9c79d",
   "metadata": {},
   "outputs": [
    {
     "data": {
      "text/plain": [
       "[1, 2, 30]"
      ]
     },
     "execution_count": 38,
     "metadata": {},
     "output_type": "execute_result"
    }
   ],
   "source": [
    "l3"
   ]
  },
  {
   "cell_type": "code",
   "execution_count": 39,
   "id": "cb358dca-582f-4deb-a8b5-33ffabad84b7",
   "metadata": {},
   "outputs": [],
   "source": [
    "l3[-1]=40"
   ]
  },
  {
   "cell_type": "code",
   "execution_count": 40,
   "id": "0b30790c-8bd3-441c-81ae-6f117be0e286",
   "metadata": {},
   "outputs": [
    {
     "data": {
      "text/plain": [
       "[1, 2, 40]"
      ]
     },
     "execution_count": 40,
     "metadata": {},
     "output_type": "execute_result"
    }
   ],
   "source": [
    "l3"
   ]
  },
  {
   "cell_type": "code",
   "execution_count": null,
   "id": "1c7fb373",
   "metadata": {},
   "outputs": [],
   "source": []
  },
  {
   "cell_type": "code",
   "execution_count": 41,
   "id": "d20d513e-2178-4d45-9d8e-c7ada0681230",
   "metadata": {},
   "outputs": [
    {
     "data": {
      "text/plain": [
       "[1, 2, 30]"
      ]
     },
     "execution_count": 41,
     "metadata": {},
     "output_type": "execute_result"
    }
   ],
   "source": [
    "l1"
   ]
  },
  {
   "cell_type": "markdown",
   "id": "5343279d",
   "metadata": {},
   "source": [
    "# interview questions "
   ]
  },
  {
   "cell_type": "code",
   "execution_count": 2,
   "id": "12a9f946-cadc-4d1b-8591-db2fb291196d",
   "metadata": {},
   "outputs": [
    {
     "data": {
      "text/plain": [
       "{0: 0, 1: 1, 2: 4, 3: 9, 4: 16, 5: 25, 6: 36, 7: 49, 8: 64, 9: 81}"
      ]
     },
     "execution_count": 2,
     "metadata": {},
     "output_type": "execute_result"
    }
   ],
   "source": [
    "{x:x**2 for x in range(10)}"
   ]
  },
  {
   "cell_type": "code",
   "execution_count": 6,
   "id": "c47db63c",
   "metadata": {},
   "outputs": [
    {
     "ename": "AttributeError",
     "evalue": "'_Helper' object has no attribute 'items'",
     "output_type": "error",
     "traceback": [
      "\u001b[1;31m---------------------------------------------------------------------------\u001b[0m",
      "\u001b[1;31mAttributeError\u001b[0m                            Traceback (most recent call last)",
      "Input \u001b[1;32mIn [6]\u001b[0m, in \u001b[0;36m<cell line: 1>\u001b[1;34m()\u001b[0m\n\u001b[1;32m----> 1\u001b[0m \u001b[43mhelp\u001b[49m\u001b[38;5;241;43m.\u001b[39;49m\u001b[43mitems\u001b[49m\n",
      "\u001b[1;31mAttributeError\u001b[0m: '_Helper' object has no attribute 'items'"
     ]
    }
   ],
   "source": []
  }
 ],
 "metadata": {
  "kernelspec": {
   "display_name": "Python 3 (ipykernel)",
   "language": "python",
   "name": "python3"
  },
  "language_info": {
   "codemirror_mode": {
    "name": "ipython",
    "version": 3
   },
   "file_extension": ".py",
   "mimetype": "text/x-python",
   "name": "python",
   "nbconvert_exporter": "python",
   "pygments_lexer": "ipython3",
   "version": "3.9.12"
  }
 },
 "nbformat": 4,
 "nbformat_minor": 5
}
