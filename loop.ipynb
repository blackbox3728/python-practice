{
 "cells": [
  {
   "cell_type": "markdown",
   "id": "b90f4e30-be88-4fef-8fab-db6cbc0b9d87",
   "metadata": {},
   "source": [
    "# loop"
   ]
  },
  {
   "cell_type": "markdown",
   "id": "897a5851-1cd7-4301-a390-89810fbb0730",
   "metadata": {},
   "source": [
    "for loop"
   ]
  },
  {
   "cell_type": "code",
   "execution_count": 1,
   "id": "af2b5b1b-cc4b-4b1d-aa65-e0feaa339cc5",
   "metadata": {},
   "outputs": [
    {
     "name": "stdout",
     "output_type": "stream",
     "text": [
      "55\n"
     ]
    }
   ],
   "source": [
    "# start the sum at zero\n",
    "list1=[1,2,3,4,5,6,7,8,9,10]\n",
    "#initializer\n",
    "sum_ = 0\n",
    "for num in list1:\n",
    "    sum_ = sum_ + num\n",
    "    #print(sum_)\n",
    "print(sum_)    "
   ]
  },
  {
   "cell_type": "code",
   "execution_count": 2,
   "id": "23964a64-81ac-445b-a321-1cef23ec156e",
   "metadata": {},
   "outputs": [
    {
     "name": "stdin",
     "output_type": "stream",
     "text": [
      "Enter the num 4\n"
     ]
    },
    {
     "name": "stdout",
     "output_type": "stream",
     "text": [
      "num is not prime\n"
     ]
    }
   ],
   "source": [
    "num = int(input(\"Enter the num\"))\n",
    "if num >1:\n",
    "    for i in range(2,num):\n",
    "        if num%i ==0:\n",
    "            print(\"num is not prime\")\n",
    "            break\n",
    "    else:\n",
    "        print(\"num is prime\")"
   ]
  },
  {
   "cell_type": "code",
   "execution_count": null,
   "id": "f0863898-669d-47cf-9fb4-9054088b500c",
   "metadata": {},
   "outputs": [],
   "source": []
  },
  {
   "cell_type": "markdown",
   "id": "0256f643-a84f-45e1-9b7c-de6ccfbea2f3",
   "metadata": {},
   "source": [
    "while loop"
   ]
  },
  {
   "cell_type": "code",
   "execution_count": 3,
   "id": "ce1db5c1-a16c-4f4b-8de5-f2d244274ca3",
   "metadata": {},
   "outputs": [
    {
     "name": "stdout",
     "output_type": "stream",
     "text": [
      "x is currrently: 0\n",
      "x is currrently: 2\n",
      "x is currrently: 4\n",
      "x is currrently: 6\n",
      "x is currrently: 8\n",
      "end of loop\n"
     ]
    }
   ],
   "source": [
    "x = 0\n",
    "while x < 10:\n",
    "    print('x is currrently:',x)\n",
    "    #print('x is still less than 10, adding 1 to x')\n",
    "    x+=2\n",
    "else:\n",
    "    print('end of loop')\n",
    "    "
   ]
  },
  {
   "cell_type": "code",
   "execution_count": 1,
   "id": "41410333-d051-415a-84a2-7cba9c12e37c",
   "metadata": {},
   "outputs": [
    {
     "name": "stdout",
     "output_type": "stream",
     "text": [
      "1\n",
      "2\n",
      "loop ended\n"
     ]
    }
   ],
   "source": [
    "n = 0 \n",
    "while n <5:\n",
    "    n += 1\n",
    "    if n == 3:\n",
    "        break\n",
    "    print(n)\n",
    "print('loop ended')"
   ]
  },
  {
   "cell_type": "code",
   "execution_count": 2,
   "id": "9288fcdc-a150-4135-be7a-76a3b2edf604",
   "metadata": {},
   "outputs": [
    {
     "name": "stdout",
     "output_type": "stream",
     "text": [
      "1\n",
      "2\n",
      "3\n",
      "4\n",
      "5\n",
      "loop ended\n"
     ]
    }
   ],
   "source": [
    "n = 0 \n",
    "while n <5:\n",
    "    n += 1\n",
    "    if n == 3:\n",
    "        pass\n",
    "    print(n)\n",
    "print('loop ended')"
   ]
  },
  {
   "cell_type": "code",
   "execution_count": 3,
   "id": "0ef11a3b-5d02-4522-8c4e-52f2b3dd2be7",
   "metadata": {},
   "outputs": [
    {
     "name": "stdout",
     "output_type": "stream",
     "text": [
      "1\n",
      "2\n",
      "4\n",
      "5\n",
      "loop ended\n"
     ]
    }
   ],
   "source": [
    "n = 0 \n",
    "while n <5:\n",
    "    n += 1\n",
    "    if n == 3:\n",
    "        continue\n",
    "    print(n)\n",
    "print('loop ended')"
   ]
  },
  {
   "cell_type": "code",
   "execution_count": 4,
   "id": "4ab0e561-23fe-42c5-a86e-18eaa72749d2",
   "metadata": {},
   "outputs": [
    {
     "name": "stdout",
     "output_type": "stream",
     "text": [
      "s\n",
      "q\n",
      "u\n",
      "n\n",
      "c\n"
     ]
    }
   ],
   "source": [
    "for i in 'sequence':\n",
    "    if i== 'e':\n",
    "        #print('continue executed')\n",
    "        continue\n",
    "    print(i)"
   ]
  },
  {
   "cell_type": "code",
   "execution_count": 5,
   "id": "cd178598-8985-4c61-9985-8620be8b85b6",
   "metadata": {},
   "outputs": [
    {
     "name": "stdout",
     "output_type": "stream",
     "text": [
      "s\n"
     ]
    }
   ],
   "source": [
    "for i in 'sequence':\n",
    "    if i== 'e':\n",
    "        #print('break executed')\n",
    "        break\n",
    "    print(i)"
   ]
  },
  {
   "cell_type": "code",
   "execution_count": 6,
   "id": "1bd9fb72-f01f-43c3-9048-053bf927616c",
   "metadata": {},
   "outputs": [
    {
     "name": "stdout",
     "output_type": "stream",
     "text": [
      "s\n",
      "e\n",
      "q\n",
      "u\n",
      "e\n",
      "n\n",
      "c\n",
      "e\n"
     ]
    }
   ],
   "source": [
    "for i in 'sequence':\n",
    "    if i== 'e':\n",
    "        #print('pass executed')\n",
    "        pass\n",
    "    print(i)"
   ]
  },
  {
   "cell_type": "code",
   "execution_count": null,
   "id": "2477a6cb-aa78-41f0-8b99-fa721ed1d7b0",
   "metadata": {},
   "outputs": [],
   "source": []
  },
  {
   "cell_type": "code",
   "execution_count": 11,
   "id": "040c7d8b-edfe-436f-8def-57e76c2869b5",
   "metadata": {},
   "outputs": [
    {
     "name": "stdin",
     "output_type": "stream",
     "text": [
      "enter any num.....to exit loop enter any -ve num 1\n",
      "enter any num.....to exit loop enter any -ve num 2\n",
      "enter any num.....to exit loop enter any -ve num 3\n",
      "enter any num.....to exit loop enter any -ve num 4\n",
      "enter any num.....to exit loop enter any -ve num -1\n"
     ]
    },
    {
     "name": "stdout",
     "output_type": "stream",
     "text": [
      "\n",
      "Number of entries= 4 \n",
      "Average= 2.5 \n",
      "sum= 10.0\n"
     ]
    }
   ],
   "source": [
    "number = 0\n",
    "counter = 0\n",
    "sum = 0\n",
    "\n",
    "while number>=0:\n",
    "    # take inputs from user for avg calculation\n",
    "    number=float(input('enter any num.....to exit loop enter any -ve num'))\n",
    "    if number>=0:\n",
    "        counter = counter+1\n",
    "        sum = sum+number\n",
    "avg = sum/counter\n",
    "\n",
    "print('\\nNumber of entries=',counter,'\\nAverage=',avg,'\\nsum=',sum)\n"
   ]
  },
  {
   "cell_type": "code",
   "execution_count": 12,
   "id": "1ad2fe4e-7480-49ea-8366-4531a3566a42",
   "metadata": {},
   "outputs": [
    {
     "name": "stdout",
     "output_type": "stream",
     "text": [
      "0 gurleen\n",
      "1 nilesh\n",
      "2 girish\n",
      "3 umaid\n"
     ]
    }
   ],
   "source": [
    "name = ['gurleen','nilesh','girish','umaid']\n",
    "for indx_val,names in enumerate(name):\n",
    "    print(indx_val,names)"
   ]
  },
  {
   "cell_type": "code",
   "execution_count": 13,
   "id": "3a3b7528-1d15-4287-b1ad-1a8e9b55d3a8",
   "metadata": {},
   "outputs": [
    {
     "name": "stdout",
     "output_type": "stream",
     "text": [
      "1 gurleen\n",
      "2 nilesh\n",
      "3 girish\n",
      "4 umaid\n"
     ]
    }
   ],
   "source": [
    "name = ['gurleen','nilesh','girish','umaid']\n",
    "for indx_val,names in enumerate(name,1):\n",
    "    print(indx_val,names)"
   ]
  },
  {
   "cell_type": "code",
   "execution_count": 14,
   "id": "a33bcb21-2e8d-443e-850a-a4744c3106fa",
   "metadata": {},
   "outputs": [
    {
     "name": "stdout",
     "output_type": "stream",
     "text": [
      "7 gurleen\n",
      "8 nilesh\n",
      "9 girish\n",
      "10 umaid\n"
     ]
    }
   ],
   "source": [
    "name = ['gurleen','nilesh','girish','umaid']\n",
    "for indx_val,names in enumerate(name,7):\n",
    "    print(indx_val,names)"
   ]
  },
  {
   "cell_type": "code",
   "execution_count": 16,
   "id": "a4429d4a-5577-42df-8608-4b1acd318954",
   "metadata": {},
   "outputs": [
    {
     "data": {
      "text/plain": [
       "[('apple', 'red', 12), ('apricot', 'orange', 13), ('papaya', 'yellow', 14)]"
      ]
     },
     "execution_count": 16,
     "metadata": {},
     "output_type": "execute_result"
    }
   ],
   "source": [
    "fruit = ['apple','apricot','papaya']\n",
    "color = ['red','orange','yellow']\n",
    "price = [12,13,14,12,14]\n",
    "list(zip(fruit,color,price\n",
    "        ))"
   ]
  },
  {
   "cell_type": "code",
   "execution_count": 18,
   "id": "5ea3362c-fe34-4597-8b16-e78aa70c44ea",
   "metadata": {},
   "outputs": [
    {
     "name": "stdout",
     "output_type": "stream",
     "text": [
      "a= ('apple', 'apricot', 'papaya') \n",
      "b ('red', 'orange', 'yellow') \n",
      "c (12, 13, 14)\n"
     ]
    }
   ],
   "source": [
    "zip_ele=list(zip(fruit,color,price))\n",
    "a,b,c =zip(*zip_ele)\n",
    "print('a=',a,'\\nb',b,'\\nc',c)"
   ]
  },
  {
   "cell_type": "code",
   "execution_count": 19,
   "id": "9f1189e8-d528-4fca-9169-a43094ec5d68",
   "metadata": {},
   "outputs": [
    {
     "name": "stdout",
     "output_type": "stream",
     "text": [
      "[2, 4, 6, 8, 10, 12, 14, 16, 18, 20]\n"
     ]
    }
   ],
   "source": [
    "eve= []\n",
    "for i in range (1,21):\n",
    "    if i%2 == 0:\n",
    "        eve.append(i)\n",
    "print(eve)        "
   ]
  },
  {
   "cell_type": "code",
   "execution_count": 20,
   "id": "df346f48-fe5a-47bf-a66c-b61facd770af",
   "metadata": {},
   "outputs": [
    {
     "data": {
      "text/plain": [
       "[2, 4, 6, 8, 10, 12, 14, 16, 18, 20]"
      ]
     },
     "execution_count": 20,
     "metadata": {},
     "output_type": "execute_result"
    }
   ],
   "source": [
    "[i for i in range (1,21) if i%2 ==0]"
   ]
  },
  {
   "cell_type": "code",
   "execution_count": 27,
   "id": "b5870c69-bb45-4c53-bc7a-288d20b28bba",
   "metadata": {},
   "outputs": [
    {
     "data": {
      "text/plain": [
       "[1]"
      ]
     },
     "execution_count": 27,
     "metadata": {},
     "output_type": "execute_result"
    }
   ],
   "source": [
    "[i for i in range (1,11) if i%2 ==i]"
   ]
  },
  {
   "cell_type": "code",
   "execution_count": 29,
   "id": "adfe7a6e-f4ad-44c7-82c1-459266fea3c5",
   "metadata": {},
   "outputs": [
    {
     "name": "stdout",
     "output_type": "stream",
     "text": [
      "[4, 16, 36, 64, 100]\n"
     ]
    }
   ],
   "source": [
    "   eve= []\n",
    "for i in range (1,11):\n",
    "    if i%2 == 0:\n",
    "        eve.append(i*i)\n",
    "print(eve) "
   ]
  },
  {
   "cell_type": "code",
   "execution_count": 30,
   "id": "c26cc549-8930-446a-bd59-e5e3613bd9a8",
   "metadata": {},
   "outputs": [
    {
     "data": {
      "text/plain": [
       "[4, 16, 36, 64, 100]"
      ]
     },
     "execution_count": 30,
     "metadata": {},
     "output_type": "execute_result"
    }
   ],
   "source": [
    "[i*i for i in range (1,11) if i%2 == 0]"
   ]
  },
  {
   "cell_type": "code",
   "execution_count": 31,
   "id": "da0aa88d-8d11-496e-ba16-0fcccbe079ec",
   "metadata": {},
   "outputs": [
    {
     "name": "stdout",
     "output_type": "stream",
     "text": [
      "[(1, 1), (1, 2), (1, 3), (1, 4), (2, 1), (2, 2), (2, 3), (2, 4), (3, 1), (3, 2), (3, 3), (3, 4), (4, 1), (4, 2), (4, 3), (4, 4)]\n"
     ]
    }
   ],
   "source": [
    "list1 = [1,2,3,4]\n",
    "list2 = [1,2,3,4]\n",
    "\n",
    "print([(x,y) for x in list1 for y in list2])"
   ]
  },
  {
   "cell_type": "code",
   "execution_count": 32,
   "id": "8e635df7-c7cc-49ea-b0b2-35a0ebbe7d76",
   "metadata": {},
   "outputs": [
    {
     "name": "stdout",
     "output_type": "stream",
     "text": [
      "[(1, 1), (1, 2), (1, 3), (1, 4), (2, 1), (2, 2), (2, 3), (2, 4), (3, 1), (3, 2), (3, 3), (3, 4), (4, 1), (4, 2), (4, 3), (4, 4)]\n"
     ]
    }
   ],
   "source": [
    "l =[]\n",
    "for x in list1:\n",
    "    for y in list2:\n",
    "        l.append((x,y))\n",
    "print(l)\n",
    "        "
   ]
  },
  {
   "cell_type": "code",
   "execution_count": 33,
   "id": "71c88d37-d1f2-473e-97f5-d9fcecdee879",
   "metadata": {},
   "outputs": [
    {
     "data": {
      "text/plain": [
       "[0, 10, 20]"
      ]
     },
     "execution_count": 33,
     "metadata": {},
     "output_type": "execute_result"
    }
   ],
   "source": [
    "num = [x for x in range (21) if x%2==0 if x%5==0]\n",
    "num"
   ]
  },
  {
   "cell_type": "code",
   "execution_count": 48,
   "id": "e8921625-be42-45cd-a88b-e0a28fb67ddb",
   "metadata": {},
   "outputs": [
    {
     "name": "stdout",
     "output_type": "stream",
     "text": [
      "[0, 10, 20]\n"
     ]
    }
   ],
   "source": [
    "num= []\n",
    "for i in range (0,21):\n",
    "    if i%2 == 0 :\n",
    "        if i%5 ==0:\n",
    "            num.append(i)\n",
    "print(num)            \n"
   ]
  },
  {
   "cell_type": "code",
   "execution_count": 51,
   "id": "5f761b67-456f-4651-b97e-a7e31091c129",
   "metadata": {},
   "outputs": [
    {
     "name": "stdout",
     "output_type": "stream",
     "text": [
      "[0, 10, 20]\n"
     ]
    }
   ],
   "source": [
    "num= []\n",
    "for i in range (21):\n",
    "    if i%2 == 0 and i%5 ==0:\n",
    "        num.append(i)\n",
    "print(num)  "
   ]
  },
  {
   "cell_type": "code",
   "execution_count": 52,
   "id": "f7682d0f-7f37-4e36-b809-65972cc60a0c",
   "metadata": {},
   "outputs": [
    {
     "data": {
      "text/plain": [
       "['yogesh', 'girish', 'gurleen']"
      ]
     },
     "execution_count": 52,
     "metadata": {},
     "output_type": "execute_result"
    }
   ],
   "source": [
    "students = ['nilish','yogesh','girish','gurleen']\n",
    "list1 = [i for i in students if 'g' in i]\n",
    "list1"
   ]
  },
  {
   "cell_type": "code",
   "execution_count": 59,
   "id": "727ebc02-6bf6-4bbf-a909-7d9b2591d842",
   "metadata": {},
   "outputs": [
    {
     "name": "stdout",
     "output_type": "stream",
     "text": [
      "['girish', 'gurleen']\n"
     ]
    }
   ],
   "source": [
    "#for name starts with 'g'\n",
    "list2=[]\n",
    "for i in students:\n",
    "    if 'g' in i[0]:\n",
    "            list2.append(i)\n",
    "print(list2)            "
   ]
  },
  {
   "cell_type": "code",
   "execution_count": 60,
   "id": "dffd9e90-6831-45df-aa4c-37a07a3fc0d1",
   "metadata": {},
   "outputs": [
    {
     "name": "stdout",
     "output_type": "stream",
     "text": [
      "['girish', 'gurleen']\n"
     ]
    }
   ],
   "source": [
    "#for name contains 'g'\n",
    "list2=[]\n",
    "for i in students:\n",
    "    if 'g' in i[0]:\n",
    "            list2.append(i)\n",
    "print(list2)  "
   ]
  },
  {
   "cell_type": "code",
   "execution_count": 61,
   "id": "c97da68b-5369-4f67-ab49-f462fc585ae6",
   "metadata": {},
   "outputs": [
    {
     "data": {
      "text/plain": [
       "[0, 1, 16, 81, 256, 625, 1296, 2401, 4096, 6561, 10000]"
      ]
     },
     "execution_count": 61,
     "metadata": {},
     "output_type": "execute_result"
    }
   ],
   "source": [
    "[x**2 for x in [x**2 for x in range(11)]]"
   ]
  },
  {
   "cell_type": "code",
   "execution_count": null,
   "id": "11f0d990-80ca-4563-b515-81bc7aeadbc0",
   "metadata": {},
   "outputs": [],
   "source": []
  }
 ],
 "metadata": {
  "kernelspec": {
   "display_name": "Python 3 (ipykernel)",
   "language": "python",
   "name": "python3"
  },
  "language_info": {
   "codemirror_mode": {
    "name": "ipython",
    "version": 3
   },
   "file_extension": ".py",
   "mimetype": "text/x-python",
   "name": "python",
   "nbconvert_exporter": "python",
   "pygments_lexer": "ipython3",
   "version": "3.9.12"
  }
 },
 "nbformat": 4,
 "nbformat_minor": 5
}
