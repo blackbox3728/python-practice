{
 "cells": [
  {
   "cell_type": "markdown",
   "id": "f5c67042",
   "metadata": {},
   "source": [
    "# define a function"
   ]
  },
  {
   "cell_type": "code",
   "execution_count": 7,
   "id": "60e02809",
   "metadata": {},
   "outputs": [],
   "source": [
    "def name_of_function():\n",
    "    \n",
    "    '''this is where the functions document string goes .when you call help() on your function it will printed out . '''\n",
    "\n",
    "\n",
    "    print('hello')\n"
   ]
  },
  {
   "cell_type": "code",
   "execution_count": 8,
   "id": "7fb1fc56",
   "metadata": {},
   "outputs": [
    {
     "data": {
      "text/plain": [
       "'this is where the functions document string goes .when you call help() on your function it will printed out . '"
      ]
     },
     "execution_count": 8,
     "metadata": {},
     "output_type": "execute_result"
    }
   ],
   "source": [
    "name_of_function.__doc__"
   ]
  },
  {
   "cell_type": "code",
   "execution_count": 9,
   "id": "3574263e",
   "metadata": {},
   "outputs": [
    {
     "name": "stdout",
     "output_type": "stream",
     "text": [
      "hello\n"
     ]
    }
   ],
   "source": [
    "name_of_function()"
   ]
  },
  {
   "cell_type": "code",
   "execution_count": 25,
   "id": "3935b259",
   "metadata": {},
   "outputs": [],
   "source": [
    "##print with argument"
   ]
  },
  {
   "cell_type": "code",
   "execution_count": 22,
   "id": "0c4a6daa",
   "metadata": {},
   "outputs": [],
   "source": [
    "def greeting(a):\n",
    "    print(\"hello {}\".format(a))"
   ]
  },
  {
   "cell_type": "code",
   "execution_count": 23,
   "id": "e85b415a",
   "metadata": {},
   "outputs": [
    {
     "name": "stdout",
     "output_type": "stream",
     "text": [
      "hello chandan\n"
     ]
    }
   ],
   "source": [
    "greeting('chandan')"
   ]
  },
  {
   "cell_type": "code",
   "execution_count": 24,
   "id": "5afe7986",
   "metadata": {},
   "outputs": [
    {
     "name": "stdout",
     "output_type": "stream",
     "text": [
      "hello 0\n"
     ]
    }
   ],
   "source": [
    "greeting(\"0\")"
   ]
  },
  {
   "cell_type": "markdown",
   "id": "6dd21e39",
   "metadata": {},
   "source": [
    "\n",
    "# print and return \n"
   ]
  },
  {
   "cell_type": "code",
   "execution_count": 28,
   "id": "acd1983f",
   "metadata": {},
   "outputs": [],
   "source": [
    "def re_add_no(a,b):\n",
    "     return  a+b"
   ]
  },
  {
   "cell_type": "code",
   "execution_count": 27,
   "id": "95d2ba78",
   "metadata": {},
   "outputs": [],
   "source": [
    "def pre_add_no(a,b):\n",
    "     print(a+b)"
   ]
  },
  {
   "cell_type": "code",
   "execution_count": 29,
   "id": "790b6b51",
   "metadata": {},
   "outputs": [
    {
     "data": {
      "text/plain": [
       "24"
      ]
     },
     "execution_count": 29,
     "metadata": {},
     "output_type": "execute_result"
    }
   ],
   "source": [
    "re_add_no(12,12)"
   ]
  },
  {
   "cell_type": "code",
   "execution_count": 30,
   "id": "12dc27ba",
   "metadata": {},
   "outputs": [
    {
     "name": "stdout",
     "output_type": "stream",
     "text": [
      "24\n"
     ]
    }
   ],
   "source": [
    "pre_add_no(12,12)"
   ]
  },
  {
   "cell_type": "code",
   "execution_count": 37,
   "id": "ddabc953",
   "metadata": {},
   "outputs": [],
   "source": [
    "def check_even_list(num_list):\n",
    "    for number in num_list:\n",
    "        if number % 2==0:\n",
    "            return True\n",
    "    return False   \n"
   ]
  },
  {
   "cell_type": "code",
   "execution_count": 38,
   "id": "c518629f",
   "metadata": {},
   "outputs": [
    {
     "data": {
      "text/plain": [
       "True"
      ]
     },
     "execution_count": 38,
     "metadata": {},
     "output_type": "execute_result"
    }
   ],
   "source": [
    "check_even_list([1,2,3])"
   ]
  },
  {
   "cell_type": "code",
   "execution_count": 39,
   "id": "6ceba155",
   "metadata": {},
   "outputs": [
    {
     "data": {
      "text/plain": [
       "False"
      ]
     },
     "execution_count": 39,
     "metadata": {},
     "output_type": "execute_result"
    }
   ],
   "source": [
    "check_even_list([1,3,5])"
   ]
  },
  {
   "cell_type": "code",
   "execution_count": 58,
   "id": "b67dd024",
   "metadata": {},
   "outputs": [],
   "source": [
    "l1=[]\n",
    "def check_even_list(num_list):\n",
    "    for number in num_list:\n",
    "        if number % 2==0:\n",
    "            l1.append(number)\n",
    "    return l1\n",
    "  "
   ]
  },
  {
   "cell_type": "code",
   "execution_count": 59,
   "id": "cf0e2166",
   "metadata": {},
   "outputs": [
    {
     "data": {
      "text/plain": [
       "[2, 4, 6]"
      ]
     },
     "execution_count": 59,
     "metadata": {},
     "output_type": "execute_result"
    }
   ],
   "source": [
    "check_even_list([1,2,3,4,5,6])"
   ]
  },
  {
   "cell_type": "code",
   "execution_count": 61,
   "id": "62baebcb",
   "metadata": {},
   "outputs": [],
   "source": [
    "work_hours=[('abby',100),('cassie',800),('billy',400),('nehal',2000)]"
   ]
  },
  {
   "cell_type": "code",
   "execution_count": 77,
   "id": "746288fb",
   "metadata": {},
   "outputs": [],
   "source": [
    "emp=dict(list(work_hours)) "
   ]
  },
  {
   "cell_type": "code",
   "execution_count": 78,
   "id": "a3ffb1cf",
   "metadata": {},
   "outputs": [
    {
     "data": {
      "text/plain": [
       "{'abby': 100, 'cassie': 800, 'billy': 400, 'nehal': 2000}"
      ]
     },
     "execution_count": 78,
     "metadata": {},
     "output_type": "execute_result"
    }
   ],
   "source": [
    "emp"
   ]
  },
  {
   "cell_type": "code",
   "execution_count": 92,
   "id": "068c1ded",
   "metadata": {},
   "outputs": [
    {
     "data": {
      "text/plain": [
       "[('abby', 100), ('cassie', 800), ('billy', 400), ('nehal', 2000)]"
      ]
     },
     "execution_count": 92,
     "metadata": {},
     "output_type": "execute_result"
    }
   ],
   "source": [
    "work_hours"
   ]
  },
  {
   "cell_type": "code",
   "execution_count": 135,
   "id": "6d9ebb6a",
   "metadata": {},
   "outputs": [],
   "source": [
    "def lesser_of_two_evens(a,b):\n",
    "    if a%2==0 and b%2==0:\n",
    "        return min(a,b)\n",
    "    else: \n",
    "        return max(a,b)"
   ]
  },
  {
   "cell_type": "code",
   "execution_count": 136,
   "id": "aa81a5e2",
   "metadata": {},
   "outputs": [
    {
     "data": {
      "text/plain": [
       "2"
      ]
     },
     "execution_count": 136,
     "metadata": {},
     "output_type": "execute_result"
    }
   ],
   "source": [
    "lesser_of_two_evens(2,4)"
   ]
  },
  {
   "cell_type": "code",
   "execution_count": 138,
   "id": "caadb650",
   "metadata": {},
   "outputs": [
    {
     "data": {
      "text/plain": [
       "3"
      ]
     },
     "execution_count": 138,
     "metadata": {},
     "output_type": "execute_result"
    }
   ],
   "source": [
    "lesser_of_two_evens(2,3)"
   ]
  },
  {
   "cell_type": "code",
   "execution_count": 143,
   "id": "093533d8",
   "metadata": {},
   "outputs": [],
   "source": [
    "def animal_crackers(text):\n",
    "    wordlist= text.split()\n",
    "    return wordlist[0][0]==wordlist[1][0]"
   ]
  },
  {
   "cell_type": "code",
   "execution_count": 150,
   "id": "5fc43d9d",
   "metadata": {},
   "outputs": [
    {
     "data": {
      "text/plain": [
       "True"
      ]
     },
     "execution_count": 150,
     "metadata": {},
     "output_type": "execute_result"
    }
   ],
   "source": [
    "animal_crackers('chandu chai')"
   ]
  },
  {
   "cell_type": "code",
   "execution_count": 151,
   "id": "078bd863",
   "metadata": {},
   "outputs": [
    {
     "data": {
      "text/plain": [
       "False"
      ]
     },
     "execution_count": 151,
     "metadata": {},
     "output_type": "execute_result"
    }
   ],
   "source": [
    "animal_crackers('chandu bhai')"
   ]
  },
  {
   "cell_type": "markdown",
   "id": "03b13815",
   "metadata": {},
   "source": [
    "# lambda function"
   ]
  },
  {
   "cell_type": "code",
   "execution_count": 4,
   "id": "6e8b7bc7",
   "metadata": {},
   "outputs": [],
   "source": [
    "def square (num):\n",
    "    return num**2"
   ]
  },
  {
   "cell_type": "code",
   "execution_count": 5,
   "id": "0e7c3ded",
   "metadata": {},
   "outputs": [
    {
     "data": {
      "text/plain": [
       "[1, 4, 9, 16, 25]"
      ]
     },
     "execution_count": 5,
     "metadata": {},
     "output_type": "execute_result"
    }
   ],
   "source": [
    "my_nums=[1,2,3,4,5]\n",
    "list(map(square,my_nums))"
   ]
  },
  {
   "cell_type": "code",
   "execution_count": null,
   "id": "cbc00d50",
   "metadata": {},
   "outputs": [],
   "source": [
    "# map(function (lambda exp:operation),data)\n",
    "# filter(function (lambda exp:operation),data)"
   ]
  },
  {
   "cell_type": "code",
   "execution_count": 7,
   "id": "d4ff5d0c",
   "metadata": {},
   "outputs": [
    {
     "data": {
      "text/plain": [
       "[1, 4, 9, 16, 25]"
      ]
     },
     "execution_count": 7,
     "metadata": {},
     "output_type": "execute_result"
    }
   ],
   "source": [
    "list(map(lambda Num:Num**2,[1,2,3,4,5]))"
   ]
  },
  {
   "cell_type": "code",
   "execution_count": 14,
   "id": "4bdcef77",
   "metadata": {},
   "outputs": [
    {
     "data": {
      "text/plain": [
       "[1, 2, 3, 4, 5]"
      ]
     },
     "execution_count": 14,
     "metadata": {},
     "output_type": "execute_result"
    }
   ],
   "source": [
    "list(filter(lambda Num:Num**2,[1,2,3,4,5]))"
   ]
  },
  {
   "cell_type": "code",
   "execution_count": 9,
   "id": "37f8928e",
   "metadata": {},
   "outputs": [
    {
     "data": {
      "text/plain": [
       "[2]"
      ]
     },
     "execution_count": 9,
     "metadata": {},
     "output_type": "execute_result"
    }
   ],
   "source": [
    "list(filter(lambda Num:Num==2,[1,2,3,4,5]))"
   ]
  },
  {
   "cell_type": "code",
   "execution_count": 12,
   "id": "97c20b26",
   "metadata": {},
   "outputs": [
    {
     "data": {
      "text/plain": [
       "[False, True, False, False, False]"
      ]
     },
     "execution_count": 12,
     "metadata": {},
     "output_type": "execute_result"
    }
   ],
   "source": [
    "list(map(lambda Num:Num==2,[1,2,3,4,5]))"
   ]
  },
  {
   "cell_type": "code",
   "execution_count": 15,
   "id": "85d1d1da",
   "metadata": {},
   "outputs": [
    {
     "data": {
      "text/plain": [
       "{1, 4, 9, 16, 25}"
      ]
     },
     "execution_count": 15,
     "metadata": {},
     "output_type": "execute_result"
    }
   ],
   "source": [
    "set(map(lambda Num:Num**2,[1,2,3,4,5]))"
   ]
  },
  {
   "cell_type": "code",
   "execution_count": 16,
   "id": "a6b9b236",
   "metadata": {},
   "outputs": [
    {
     "data": {
      "text/plain": [
       "[False, True, False, True, False]"
      ]
     },
     "execution_count": 16,
     "metadata": {},
     "output_type": "execute_result"
    }
   ],
   "source": [
    "list(map(lambda Num:Num%2==0,[1,2,3,4,5]))"
   ]
  },
  {
   "cell_type": "code",
   "execution_count": 17,
   "id": "6a5270ed",
   "metadata": {},
   "outputs": [
    {
     "data": {
      "text/plain": [
       "[2, 4]"
      ]
     },
     "execution_count": 17,
     "metadata": {},
     "output_type": "execute_result"
    }
   ],
   "source": [
    "list(filter(lambda Num:Num%2==0,[1,2,3,4,5]))"
   ]
  },
  {
   "cell_type": "code",
   "execution_count": null,
   "id": "55522179",
   "metadata": {},
   "outputs": [],
   "source": [
    "# example "
   ]
  },
  {
   "cell_type": "code",
   "execution_count": 21,
   "id": "62926782",
   "metadata": {},
   "outputs": [
    {
     "data": {
      "text/plain": [
       "['s', 'm', 's']"
      ]
     },
     "execution_count": 21,
     "metadata": {},
     "output_type": "execute_result"
    }
   ],
   "source": [
    "def F_laters(a):\n",
    "    return a[0]\n",
    "l=['soham','mruga','suraj']\n",
    "list(map(F_laters,l))"
   ]
  },
  {
   "cell_type": "code",
   "execution_count": 20,
   "id": "532f0864",
   "metadata": {},
   "outputs": [
    {
     "data": {
      "text/plain": [
       "['s', 'm', 's']"
      ]
     },
     "execution_count": 20,
     "metadata": {},
     "output_type": "execute_result"
    }
   ],
   "source": [
    "list(map(lambda a:a[0],['soham','mruga','suraj']))"
   ]
  },
  {
   "cell_type": "code",
   "execution_count": 22,
   "id": "56d23a16",
   "metadata": {},
   "outputs": [
    {
     "data": {
      "text/plain": [
       "3"
      ]
     },
     "execution_count": 22,
     "metadata": {},
     "output_type": "execute_result"
    }
   ],
   "source": [
    "def my_add(a,b):\n",
    "    return a+b\n",
    "my_add(1,2)"
   ]
  },
  {
   "cell_type": "code",
   "execution_count": 24,
   "id": "c0ccc6d1",
   "metadata": {},
   "outputs": [],
   "source": [
    "x=map(my_add,('chandan','sudama','ram'),('lohar','raste','krushna'))"
   ]
  },
  {
   "cell_type": "code",
   "execution_count": 25,
   "id": "6b84e037",
   "metadata": {},
   "outputs": [
    {
     "data": {
      "text/plain": [
       "['chandanlohar', 'sudamaraste', 'ramkrushna']"
      ]
     },
     "execution_count": 25,
     "metadata": {},
     "output_type": "execute_result"
    }
   ],
   "source": [
    "list(x)"
   ]
  },
  {
   "cell_type": "code",
   "execution_count": 27,
   "id": "a17884bc",
   "metadata": {},
   "outputs": [
    {
     "data": {
      "text/plain": [
       "['chandanlohar', 'sudamaraste', 'ramkrushna']"
      ]
     },
     "execution_count": 27,
     "metadata": {},
     "output_type": "execute_result"
    }
   ],
   "source": [
    "list(map(lambda x,y:x+y,('chandan','sudama','ram'),('lohar','raste','krushna')))"
   ]
  },
  {
   "cell_type": "code",
   "execution_count": null,
   "id": "75219a63",
   "metadata": {},
   "outputs": [],
   "source": [
    "# sort list by using sort() and lambda function based on 2nd latter"
   ]
  },
  {
   "cell_type": "code",
   "execution_count": 44,
   "id": "2f99c53a",
   "metadata": {},
   "outputs": [
    {
     "data": {
      "text/plain": [
       "['goose', 'otter', 'whale']"
      ]
     },
     "execution_count": 44,
     "metadata": {},
     "output_type": "execute_result"
    }
   ],
   "source": [
    "sorted(list(filter(lambda a:a[1],['otter','whale','goose',])))"
   ]
  },
  {
   "cell_type": "code",
   "execution_count": null,
   "id": "507fe055",
   "metadata": {},
   "outputs": [],
   "source": [
    "# sort list by using sort() and lambda function based on 2nd item"
   ]
  },
  {
   "cell_type": "code",
   "execution_count": 64,
   "id": "092d418f",
   "metadata": {},
   "outputs": [
    {
     "ename": "IndexError",
     "evalue": "list index out of range",
     "output_type": "error",
     "traceback": [
      "\u001b[1;31m---------------------------------------------------------------------------\u001b[0m",
      "\u001b[1;31mIndexError\u001b[0m                                Traceback (most recent call last)",
      "Input \u001b[1;32mIn [64]\u001b[0m, in \u001b[0;36m<cell line: 2>\u001b[1;34m()\u001b[0m\n\u001b[0;32m      1\u001b[0m lst\u001b[38;5;241m=\u001b[39m[(\u001b[38;5;241m19542209\u001b[39m,\u001b[38;5;124m\"\u001b[39m\u001b[38;5;124mnew Yorks\u001b[39m\u001b[38;5;124m\"\u001b[39m),(\u001b[38;5;241m4887871\u001b[39m,\u001b[38;5;124m\"\u001b[39m\u001b[38;5;124mAlabama \u001b[39m\u001b[38;5;124m\"\u001b[39m)]\n\u001b[1;32m----> 2\u001b[0m lst\u001b[38;5;241m=\u001b[39m\u001b[38;5;28msorted\u001b[39m(\u001b[38;5;28;43mlist\u001b[39;49m\u001b[43m(\u001b[49m\u001b[38;5;28;43mfilter\u001b[39;49m\u001b[43m(\u001b[49m\u001b[38;5;28;43;01mlambda\u001b[39;49;00m\u001b[43m \u001b[49m\u001b[43mlst\u001b[49m\u001b[43m:\u001b[49m\u001b[43mlst\u001b[49m\u001b[43m(\u001b[49m\u001b[43m[\u001b[49m\u001b[38;5;241;43m0\u001b[39;49m\u001b[43m]\u001b[49m\u001b[43m[\u001b[49m\u001b[38;5;241;43m1\u001b[39;49m\u001b[43m]\u001b[49m\u001b[43m)\u001b[49m\u001b[43m,\u001b[49m\u001b[43mlst\u001b[49m\u001b[43m)\u001b[49m\u001b[43m)\u001b[49m)\n",
      "Input \u001b[1;32mIn [64]\u001b[0m, in \u001b[0;36m<lambda>\u001b[1;34m(lst)\u001b[0m\n\u001b[0;32m      1\u001b[0m lst\u001b[38;5;241m=\u001b[39m[(\u001b[38;5;241m19542209\u001b[39m,\u001b[38;5;124m\"\u001b[39m\u001b[38;5;124mnew Yorks\u001b[39m\u001b[38;5;124m\"\u001b[39m),(\u001b[38;5;241m4887871\u001b[39m,\u001b[38;5;124m\"\u001b[39m\u001b[38;5;124mAlabama \u001b[39m\u001b[38;5;124m\"\u001b[39m)]\n\u001b[1;32m----> 2\u001b[0m lst\u001b[38;5;241m=\u001b[39m\u001b[38;5;28msorted\u001b[39m(\u001b[38;5;28mlist\u001b[39m(\u001b[38;5;28mfilter\u001b[39m(\u001b[38;5;28;01mlambda\u001b[39;00m lst:lst(\u001b[43m[\u001b[49m\u001b[38;5;241;43m0\u001b[39;49m\u001b[43m]\u001b[49m\u001b[43m[\u001b[49m\u001b[38;5;241;43m1\u001b[39;49m\u001b[43m]\u001b[49m),lst)))\n",
      "\u001b[1;31mIndexError\u001b[0m: list index out of range"
     ]
    }
   ],
   "source": [
    "lst=[(19542209,\"new Yorks\"),(4887871,\"Alabama \")]\n",
    "lst=sorted(list(filter(lambda lst:lst([0][1]),lst)))"
   ]
  },
  {
   "cell_type": "code",
   "execution_count": 60,
   "id": "7deac9d8",
   "metadata": {},
   "outputs": [
    {
     "name": "stdout",
     "output_type": "stream",
     "text": [
      "new Yorks\n"
     ]
    }
   ],
   "source": [
    "lst=[(19542209,\"new Yorks\"),(4887871,\"Alabama \")]\n",
    "print(lst[0][1])"
   ]
  },
  {
   "cell_type": "code",
   "execution_count": null,
   "id": "c24bd935",
   "metadata": {},
   "outputs": [],
   "source": []
  },
  {
   "cell_type": "code",
   "execution_count": null,
   "id": "ed454b20",
   "metadata": {},
   "outputs": [],
   "source": []
  }
 ],
 "metadata": {
  "kernelspec": {
   "display_name": "Python 3 (ipykernel)",
   "language": "python",
   "name": "python3"
  },
  "language_info": {
   "codemirror_mode": {
    "name": "ipython",
    "version": 3
   },
   "file_extension": ".py",
   "mimetype": "text/x-python",
   "name": "python",
   "nbconvert_exporter": "python",
   "pygments_lexer": "ipython3",
   "version": "3.9.12"
  }
 },
 "nbformat": 4,
 "nbformat_minor": 5
}
