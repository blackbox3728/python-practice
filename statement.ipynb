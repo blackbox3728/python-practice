{
 "cells": [
  {
   "cell_type": "markdown",
   "id": "79e2a2d1-0f9f-400c-9d57-527acade785f",
   "metadata": {},
   "source": [
    "# python statements"
   ]
  },
  {
   "cell_type": "code",
   "execution_count": 5,
   "id": "de4103cf-1566-4b96-961c-3809ceb7de4c",
   "metadata": {
    "collapsed": true,
    "jupyter": {
     "outputs_hidden": true
    }
   },
   "outputs": [],
   "source": [
    "if False:\n",
    "    print('It was true!')\n"
   ]
  },
  {
   "cell_type": "code",
   "execution_count": 4,
   "id": "5d0b5310-d1e5-4103-8b56-3f20658276b0",
   "metadata": {
    "collapsed": true,
    "jupyter": {
     "outputs_hidden": true
    }
   },
   "outputs": [
    {
     "name": "stdout",
     "output_type": "stream",
     "text": [
      "if condition is false so else executed\n"
     ]
    }
   ],
   "source": [
    "x =False\n",
    "\n",
    "if x==True:\n",
    "    print('x was true')\n",
    "else:\n",
    "    print('if condition is false so else executed')"
   ]
  },
  {
   "cell_type": "code",
   "execution_count": null,
   "id": "9f36c3f8-5cc9-4eb4-93cd-68d6618dbdfe",
   "metadata": {
    "collapsed": true,
    "jupyter": {
     "outputs_hidden": true
    }
   },
   "outputs": [],
   "source": []
  },
  {
   "cell_type": "code",
   "execution_count": 18,
   "id": "e873588a-fbd8-4bf0-95e1-37b7e4e47ecf",
   "metadata": {
    "collapsed": true,
    "jupyter": {
     "outputs_hidden": true
    },
    "tags": []
   },
   "outputs": [
    {
     "name": "stdin",
     "output_type": "stream",
     "text": [
      "Enter the location Scool\n"
     ]
    },
    {
     "name": "stdout",
     "output_type": "stream",
     "text": [
      "where are you ? location is = Scool\n"
     ]
    }
   ],
   "source": [
    "loc = str.title(input('Enter the location'))\n",
    "\n",
    "if loc == 'auto shop':\n",
    "    print('welcome to auto shop')\n",
    "elif loc == 'bank':\n",
    "    print('welcome to bank')\n",
    "elif loc == 'school':\n",
    "    print('welcome to school')\n",
    "else:\n",
    "    print('where are you ? location is =',loc )"
   ]
  },
  {
   "cell_type": "markdown",
   "id": "9c77827f-112a-4815-8998-4db0c20a45ec",
   "metadata": {},
   "source": [
    "Range(start,end,step_size)"
   ]
  },
  {
   "cell_type": "code",
   "execution_count": 19,
   "id": "c41759db-2167-4377-afea-2fd97887848e",
   "metadata": {
    "collapsed": true,
    "jupyter": {
     "outputs_hidden": true
    }
   },
   "outputs": [
    {
     "name": "stdout",
     "output_type": "stream",
     "text": [
      "{1, 2, 3, 4, 5, 6, 7, 8, 9, 10, 11, 12, 13, 14, 15, 16, 17, 18, 19, 20, 21, 22, 23, 24, 25, 26, 27, 28, 29, 30, 31, 32, 33, 34, 35, 36, 37, 38, 39, 40, 41, 42, 43, 44, 45, 46, 47, 48, 49, 50, 51, 52, 53, 54, 55, 56, 57, 58, 59, 60, 61, 62, 63, 64, 65, 66, 67, 68, 69, 70, 71, 72, 73, 74, 75, 76, 77, 78, 79, 80, 81, 82, 83, 84, 85, 86, 87, 88, 89, 90, 91, 92, 93, 94, 95, 96, 97, 98, 99, 100}\n"
     ]
    }
   ],
   "source": [
    "l1 = set(range(1,101))\n",
    "print(l1)"
   ]
  },
  {
   "cell_type": "code",
   "execution_count": 22,
   "id": "6b49aaf7-8bb9-4631-8b41-6cc4bb1e3522",
   "metadata": {
    "collapsed": true,
    "jupyter": {
     "outputs_hidden": true
    }
   },
   "outputs": [
    {
     "name": "stdout",
     "output_type": "stream",
     "text": [
      "(1, 3, 5, 7, 9, 11, 13, 15, 17, 19, 21, 23, 25, 27, 29, 31, 33, 35, 37, 39, 41, 43, 45, 47, 49, 51, 53, 55, 57, 59, 61, 63, 65, 67, 69, 71, 73, 75, 77, 79, 81, 83, 85, 87, 89, 91, 93, 95, 97, 99)\n"
     ]
    }
   ],
   "source": [
    "l1 = tuple(range(1,101,2))\n",
    "print(l1)"
   ]
  },
  {
   "cell_type": "code",
   "execution_count": 23,
   "id": "ad296238-529f-4aff-bf23-337e8167bbd3",
   "metadata": {
    "collapsed": true,
    "jupyter": {
     "outputs_hidden": true
    }
   },
   "outputs": [
    {
     "name": "stdout",
     "output_type": "stream",
     "text": [
      "[0, 2, 4, 6, 8, 10, 12, 14, 16, 18, 20, 22, 24, 26, 28, 30, 32, 34, 36, 38, 40, 42, 44, 46, 48, 50, 52, 54, 56, 58, 60, 62, 64, 66, 68, 70, 72, 74, 76, 78, 80, 82, 84, 86, 88, 90, 92, 94, 96, 98, 100]\n"
     ]
    }
   ],
   "source": [
    "l1 = list(range(0,101,2))\n",
    "print(l1)"
   ]
  },
  {
   "cell_type": "code",
   "execution_count": 24,
   "id": "4f103714-f1b1-4543-a0bd-80387ce0cc51",
   "metadata": {
    "collapsed": true,
    "jupyter": {
     "outputs_hidden": true
    }
   },
   "outputs": [
    {
     "name": "stdout",
     "output_type": "stream",
     "text": [
      "num is odd\n"
     ]
    }
   ],
   "source": [
    "a=10\n",
    "if a%2==0:\n",
    "    print('num is odd')"
   ]
  },
  {
   "cell_type": "code",
   "execution_count": 25,
   "id": "c4c5ed2d-74b8-428d-868e-a728f590c24c",
   "metadata": {
    "collapsed": true,
    "jupyter": {
     "outputs_hidden": true
    }
   },
   "outputs": [
    {
     "name": "stdout",
     "output_type": "stream",
     "text": [
      "num is odd 1\n",
      "num is even 2\n",
      "num is odd 3\n",
      "num is even 4\n",
      "num is odd 5\n",
      "num is even 6\n",
      "num is odd 7\n",
      "num is even 8\n",
      "num is odd 9\n",
      "num is even 10\n",
      "for ended\n"
     ]
    }
   ],
   "source": [
    "#iterator\n",
    "l1= list(range(1,11))\n",
    "for val in l1:\n",
    "    if val%2==0:\n",
    "        print('num is even',val)\n",
    "    else:\n",
    "        print('num is odd',val)\n",
    "print('for ended')"
   ]
  },
  {
   "cell_type": "code",
   "execution_count": 26,
   "id": "f8c73f01-faee-4e0b-b0de-80259f4fcd37",
   "metadata": {
    "collapsed": true,
    "jupyter": {
     "outputs_hidden": true
    }
   },
   "outputs": [
    {
     "name": "stdout",
     "output_type": "stream",
     "text": [
      "[2, 4, 6, 8, 10]\n"
     ]
    }
   ],
   "source": [
    "l1= list(range(1,11))\n",
    "l_evens = []\n",
    "for val in l1:\n",
    "    if val%2==0:\n",
    "        l_evens.append(val)\n",
    "print(l_evens)"
   ]
  },
  {
   "cell_type": "code",
   "execution_count": 27,
   "id": "65a67901-0a9d-434b-9bbd-f83bedbcff86",
   "metadata": {
    "collapsed": true,
    "jupyter": {
     "outputs_hidden": true
    },
    "tags": []
   },
   "outputs": [
    {
     "name": "stdout",
     "output_type": "stream",
     "text": [
      "1\n",
      "2\n",
      "3\n"
     ]
    }
   ],
   "source": [
    "t_1 = (1,2,3)\n",
    "for i in t_1:\n",
    "    print(i)"
   ]
  },
  {
   "cell_type": "code",
   "execution_count": 28,
   "id": "17744b3c-714b-4b86-a37b-a17cf93b0eeb",
   "metadata": {
    "collapsed": true,
    "jupyter": {
     "outputs_hidden": true
    }
   },
   "outputs": [
    {
     "name": "stdout",
     "output_type": "stream",
     "text": [
      "h\n",
      "e\n",
      "l\n",
      "l\n",
      "o\n"
     ]
    }
   ],
   "source": [
    "st = 'hello'\n",
    "for i in st:\n",
    "    print(i)"
   ]
  },
  {
   "cell_type": "code",
   "execution_count": 30,
   "id": "fe4444af-867b-40ac-bbea-013124fe3858",
   "metadata": {
    "collapsed": true,
    "jupyter": {
     "outputs_hidden": true
    }
   },
   "outputs": [
    {
     "name": "stdout",
     "output_type": "stream",
     "text": [
      "hello\n",
      "k1\n",
      "python\n",
      "k2\n"
     ]
    }
   ],
   "source": [
    "d_1 = {'k1':'hello','k2':'python'}\n",
    "for i,j in d_1.items():\n",
    "    print(j)\n",
    "    print(i)"
   ]
  },
  {
   "cell_type": "code",
   "execution_count": 31,
   "id": "d2a93745-b770-42f4-b4ec-6b3961f36582",
   "metadata": {
    "collapsed": true,
    "jupyter": {
     "outputs_hidden": true
    },
    "tags": []
   },
   "outputs": [
    {
     "name": "stdout",
     "output_type": "stream",
     "text": [
      "1\n",
      "2\n",
      "3\n",
      "4\n"
     ]
    }
   ],
   "source": [
    "l = [('sunny',1),('suraj',2),('prasad',3),('yash',4)]\n",
    "for i,j, in l:\n",
    "    print(j)"
   ]
  },
  {
   "cell_type": "code",
   "execution_count": null,
   "id": "c80ab5d2-fe24-4e4f-ae85-fa0736e52449",
   "metadata": {
    "collapsed": true,
    "jupyter": {
     "outputs_hidden": true
    }
   },
   "outputs": [],
   "source": []
  }
 ],
 "metadata": {
  "kernelspec": {
   "display_name": "Python 3 (ipykernel)",
   "language": "python",
   "name": "python3"
  },
  "language_info": {
   "codemirror_mode": {
    "name": "ipython",
    "version": 3
   },
   "file_extension": ".py",
   "mimetype": "text/x-python",
   "name": "python",
   "nbconvert_exporter": "python",
   "pygments_lexer": "ipython3",
   "version": "3.9.12"
  }
 },
 "nbformat": 4,
 "nbformat_minor": 5
}
